{
 "cells": [
  {
   "cell_type": "code",
   "execution_count": 52,
   "metadata": {
    "collapsed": false
   },
   "outputs": [
    {
     "name": "stderr",
     "output_type": "stream",
     "text": [
      "C:\\Users\\Maxime Calloix\\Documents\\ENSAE\\3A\\Hidden Markov Chain\\Project\\Code\\data_extraction_script_module2.py:123: UserWarning: WARNING : There is more than 365 days or less than 365 days in dataframe\n",
      "  warnings.warn(\"WARNING : There is more than 365 days or less than 365 days in dataframe\")\n"
     ]
    },
    {
     "name": "stdout",
     "output_type": "stream",
     "text": [
      "Historique_consommation_INST_2012/Historique_consommation_INST_2012.xls\n",
      "Number of rows 366\n"
     ]
    }
   ],
   "source": [
    "import numpy as np\n",
    "from scipy.stats import truncnorm\n",
    "import math\n",
    "import data_extraction_script_module2"
   ]
  },
  {
   "cell_type": "code",
   "execution_count": 3,
   "metadata": {
    "collapsed": false
   },
   "outputs": [],
   "source": [
    "#theta_generation : this function generates a theta according to the laws described in the article\n",
    "def theta_generation(number_of_daytypes):\n",
    "    sigma2_s = 1 / (np.random.gamma(size = 1, shape = 0.01, scale = 100)[0]) \n",
    "    sigma2_g = 1 / (np.random.gamma(size = 1, shape = 0.01, scale = 100)[0]) \n",
    "    u_heat = np.random.normal(size=1, loc = 14, scale = 1)[0] #loc = mean / scale = standard deviation /!\\\n",
    "    kappa = (np.random.dirichlet(size = 1, alpha = [1]*number_of_daytypes)[0])*number_of_daytypes\n",
    "    sigma2 = 1 / (np.random.gamma(size = 1, shape = 0.01, scale = 100)[0]) \n",
    "    return(sigma2_s,sigma2_g,u_heat,kappa,sigma2)"
   ]
  },
  {
   "cell_type": "code",
   "execution_count": 54,
   "metadata": {
    "collapsed": true
   },
   "outputs": [],
   "source": [
    "#x_season_generation : simulation of the x_season according to the law described in the article\n",
    "def x_season_generation(n,electricity_data,kappa, sigma2_s):\n",
    "    #Initialization\n",
    "    x = np.zeros(n)\n",
    "    nu = truncnorm.rvs(a = 0, b = math.inf, loc= 0, scale = sigma2_s, size=1)[0]\n",
    "    sigma2_s_n = nu\n",
    "    error = truncnorm.rvs(a = 0, b = math.inf, loc= 0, scale = sigma2_s_n, size=1)[0]\n",
    "    s_n=error\n",
    "    x[0] = s_n * kappa[electricity_data.df.Day_type[0]] # on multiplie s_n par la valeur de kappa au jour n\n",
    "    for i in range(1,n,1):\n",
    "        nu = truncnorm.rvs(a = -sigma2_s_n / sigma2_s , b = math.inf, loc= 0, scale = sigma2_s, size=1)[0]\n",
    "        sigma2_s_n += nu\n",
    "        error = truncnorm.rvs(a = -s_n / sigma2_s_n , b = math.inf, loc= 0, scale = sigma2_s_n, size=1)[0]\n",
    "        s_n += error\n",
    "        x[i] = s_n * kappa[electricity_data.df.Day_type[i]] # on multiplie s_n par la valeur de kappa au jour n  \n",
    "    return(x)"
   ]
  },
  {
   "cell_type": "code",
   "execution_count": 55,
   "metadata": {
    "collapsed": true
   },
   "outputs": [],
   "source": [
    "#x_heat_generation : simulation of the x_heat according to the law described in the article\n",
    "def x_heat_generation(n,temperature_data,u_heat, sigma2_g, hour):\n",
    "    #Initialization\n",
    "    x = np.zeros(n)\n",
    "    nu = truncnorm.rvs(a = 0, b = math.inf, loc= 0, scale = sigma2_g, size=1)[0]\n",
    "    sigma2_g_n = nu\n",
    "    error = truncnorm.rvs(a = -math.inf, b = 0, loc= 0, scale = sigma2_g_n, size=1)[0]\n",
    "    g_n=error\n",
    "    x[0] = g_n * min(temperature_data.df.iloc[0,hour]-u_heat,0) # on multiplie g_n par la différence de la température\n",
    "    for i in range(1,n,1):\n",
    "        nu = truncnorm.rvs(a = -sigma2_g_n / sigma2_g , b = math.inf, loc= 0, scale = sigma2_g, size=1)[0]\n",
    "        sigma2_g_n += nu\n",
    "        error = truncnorm.rvs(a = - math.inf , b = -g_n / sigma2_g_n , loc= 0, scale = sigma2_g_n, size=1)[0]\n",
    "        g_n += error\n",
    "        x[i] = g_n * min(temperature_data.df.iloc[i, hour]-u_heat,0) # on multiplie s_n par la différence de la température \n",
    "    return(x)"
   ]
  },
  {
   "cell_type": "code",
   "execution_count": 50,
   "metadata": {
    "collapsed": true
   },
   "outputs": [],
   "source": [
    "#electricity_simulation : function to be called in order to retrieve the electricity simulation\n",
    "# We compute separately v (the main error), x_season and x_heat and we sum them at the end\n",
    "#Parameters are :\n",
    "# - an instance of the class for the temperature\n",
    "# - an instance of the class for the electricity(in order to retrieve the day-type)\n",
    "# - the vector theta from theta_generation\n",
    "# - the index of the hour\n",
    "def electricity_simulation(temperature_data,electricity_data,theta,hour):\n",
    "    sigma2_s,sigma2_g,u_heat,kappa,sigma2 = theta\n",
    "    n = len(temperature_data.df)\n",
    "    v = np.random.normal(size = n, loc = 0, scale = sigma2) #loc = mean / scale = standard deviation /!\\\n",
    "    return(v + x_season_generation(n,electricity_data,kappa, sigma2_s) + x_heat_generation(n,temperature_data,u_heat, sigma2_g, hour ) )"
   ]
  },
  {
   "cell_type": "markdown",
   "metadata": {},
   "source": [
    "Example of the code used"
   ]
  },
  {
   "cell_type": "code",
   "execution_count": null,
   "metadata": {
    "collapsed": true
   },
   "outputs": [],
   "source": [
    "#Loading of the data\n",
    "temperature_data = data_extraction_script_module2.Temperatures()\n",
    "temperature_data.get_temperatures('C:/Users/Maxime Calloix/Documents/ENSAE/3A/Hidden Markov Chain/Project/Donnees temperature/')\n",
    "electricity_data = data_extraction_script_module2.Electricity()\n",
    "electricity_data.get_electricity_data(\"C:/Users/Maxime Calloix/Documents/ENSAE/3A/Hidden Markov Chain/Project/Donnees electricite/\")"
   ]
  },
  {
   "cell_type": "code",
   "execution_count": 67,
   "metadata": {
    "collapsed": false
   },
   "outputs": [
    {
     "name": "stdout",
     "output_type": "stream",
     "text": [
      "(11209532.315395907, 9.6901990981059529e+40, 14.249459396388492, array([ 3.04722535,  0.13057057,  0.29475074,  0.79769772,  0.37695658,\n",
      "        1.02041211,  1.26916969,  1.06321723]), 43078.88512142151)\n"
     ]
    }
   ],
   "source": [
    "number_of_daytypes = len(set(electricity_data.df.Day_type))\n",
    "theta = theta_generation(number_of_daytypes)\n",
    "print(theta)#sigma2_s, sigma2_g, u_heat, kappa, sigma2"
   ]
  },
  {
   "cell_type": "code",
   "execution_count": 68,
   "metadata": {
    "collapsed": false
   },
   "outputs": [],
   "source": [
    "simulation = electricity_simulation(temperature_data,electricity_data,theta,0)#We use the hour 00:00"
   ]
  },
  {
   "cell_type": "code",
   "execution_count": 69,
   "metadata": {
    "collapsed": false
   },
   "outputs": [
    {
     "name": "stdout",
     "output_type": "stream",
     "text": [
      "[  4.88873400e+40   3.32586732e+41   1.16090225e+42 ...,   1.66916756e+45\n",
      "   2.46831582e+45   1.71334218e+45]\n"
     ]
    }
   ],
   "source": [
    "print(simulation)"
   ]
  },
  {
   "cell_type": "code",
   "execution_count": null,
   "metadata": {
    "collapsed": true
   },
   "outputs": [],
   "source": []
  }
 ],
 "metadata": {
  "anaconda-cloud": {},
  "kernelspec": {
   "display_name": "Python [conda root]",
   "language": "python",
   "name": "conda-root-py"
  },
  "language_info": {
   "codemirror_mode": {
    "name": "ipython",
    "version": 3
   },
   "file_extension": ".py",
   "mimetype": "text/x-python",
   "name": "python",
   "nbconvert_exporter": "python",
   "pygments_lexer": "ipython3",
   "version": "3.5.2"
  }
 },
 "nbformat": 4,
 "nbformat_minor": 1
}
