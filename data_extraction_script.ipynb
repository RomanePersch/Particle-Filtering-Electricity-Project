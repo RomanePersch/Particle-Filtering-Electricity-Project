{
 "cells": [
  {
   "cell_type": "code",
   "execution_count": 1,
   "metadata": {
    "collapsed": false
   },
   "outputs": [],
   "source": [
    "#In Python, there is no lack of performance if we import several times the same module and / or package\n",
    "import pandas as pd\n",
    "import numpy as np\n",
    "from os import listdir\n",
    "from os.path import isfile, join"
   ]
  },
  {
   "cell_type": "code",
   "execution_count": 4,
   "metadata": {
    "collapsed": true
   },
   "outputs": [],
   "source": [
    "class Temperatures(object):\n",
    "    \"\"\"A dataframe storing all temperatures we know\n",
    "    Given the path name of the directory containing all Meteo France gzip files we want to use\"\"\"\n",
    "    \n",
    "    def __init__(self):\n",
    "        \"constructor\"\n",
    "        import pandas as pd\n",
    "        self.df =  pd.DataFrame()\n",
    "    \n",
    "    def clean_temperatures(self) :\n",
    "        list_outremer = [71805, 81408, 81415, 81405, 81401, 78894, 78890, 78897, 78922, 78925, 89642, \n",
    "                 61998, 61996, 61997, 61980, 61976, 61968, 67005, 61970, 61972]\n",
    "        list_corsica = [7790,7761]\n",
    "        #Convert temperature from Kelvin to Celsius degrees :\n",
    "        self.df.loc[self.df.t == 'mq','t'] = np.nan\n",
    "        self.df.t = pd.to_numeric(self.df.t)\n",
    "        self.df.t = self.df.t - 273.15\n",
    "        #Convert dates to DateTime format\n",
    "        self.df.date = pd.to_datetime(self.df.date, format='%Y%m%d%H%M%S')\n",
    "        #Remove stations that are not in continental France (\"Outre-mer\" and Corsica)\n",
    "        self.df = self.df[(self.df.numer_sta.isin(list_outremer)== False) & (self.df.numer_sta.isin(list_corsica)==False)]\n",
    "        #Compute temperature average\n",
    "        grouped_temp =  self.df.groupby('date').t.mean()\n",
    "        #Replace self.df by the average temperatures dataframe\n",
    "        self.df = pd.DataFrame(grouped_temp).reset_index()\n",
    "    \n",
    "    def get_temperatures(self, mypath):\n",
    "        \"\"\"given a path name (do not forget '/' at the end) of the directory containing all Meteo France gzip files we want to use,\n",
    "        Unzip the gzip files\n",
    "        And insert them into the Temperatures instance\"\"\"\n",
    "        import numpy as np\n",
    "        from os import listdir\n",
    "        from os.path import isfile, join\n",
    "        \n",
    "        onlyfiles = [f for f in listdir(mypath) if isfile(join(mypath, f))]\n",
    "        for file_name in onlyfiles :\n",
    "            df_temp = pd.read_table(mypath+file_name,compression='gzip', sep = ';')\n",
    "            df_temp = df_temp[['numer_sta', 'date', 't']]\n",
    "            self.df = self.df.append(df_temp, ignore_index=True)\n",
    "        self.clean_temperatures()\n",
    "        \n",
    "        \n",
    "            "
   ]
  },
  {
   "cell_type": "markdown",
   "metadata": {},
   "source": [
    "Tests sur la classe : (à supprimer par la suite)"
   ]
  },
  {
   "cell_type": "code",
   "execution_count": 5,
   "metadata": {
    "collapsed": false
   },
   "outputs": [],
   "source": [
    "#On crée une instance de la classe Temperatures qu'on nomme essai\n",
    "essai = Temperatures()\n",
    "#On va insérer les données dans l'instance grâce à l'instruction get_temperatures() en précisant le chemin du dossier\n",
    "#où se trouvent les données\n",
    "essai.get_temperatures('C:/Users/roman/Desktop/ENSAE 3A/HMM et Monte Carlo/Donnees temperature/')"
   ]
  },
  {
   "cell_type": "code",
   "execution_count": 6,
   "metadata": {
    "collapsed": false
   },
   "outputs": [
    {
     "data": {
      "text/html": [
       "<div>\n",
       "<table border=\"1\" class=\"dataframe\">\n",
       "  <thead>\n",
       "    <tr style=\"text-align: right;\">\n",
       "      <th></th>\n",
       "      <th>date</th>\n",
       "      <th>t</th>\n",
       "    </tr>\n",
       "  </thead>\n",
       "  <tbody>\n",
       "    <tr>\n",
       "      <th>0</th>\n",
       "      <td>2011-01-01 00:00:00</td>\n",
       "      <td>3.012821</td>\n",
       "    </tr>\n",
       "    <tr>\n",
       "      <th>1</th>\n",
       "      <td>2011-01-01 03:00:00</td>\n",
       "      <td>2.725641</td>\n",
       "    </tr>\n",
       "    <tr>\n",
       "      <th>2</th>\n",
       "      <td>2011-01-01 06:00:00</td>\n",
       "      <td>2.317949</td>\n",
       "    </tr>\n",
       "    <tr>\n",
       "      <th>3</th>\n",
       "      <td>2011-01-01 09:00:00</td>\n",
       "      <td>2.625641</td>\n",
       "    </tr>\n",
       "    <tr>\n",
       "      <th>4</th>\n",
       "      <td>2011-01-01 12:00:00</td>\n",
       "      <td>4.176923</td>\n",
       "    </tr>\n",
       "  </tbody>\n",
       "</table>\n",
       "</div>"
      ],
      "text/plain": [
       "                 date         t\n",
       "0 2011-01-01 00:00:00  3.012821\n",
       "1 2011-01-01 03:00:00  2.725641\n",
       "2 2011-01-01 06:00:00  2.317949\n",
       "3 2011-01-01 09:00:00  2.625641\n",
       "4 2011-01-01 12:00:00  4.176923"
      ]
     },
     "execution_count": 6,
     "metadata": {},
     "output_type": "execute_result"
    }
   ],
   "source": [
    "essai.df.head()"
   ]
  },
  {
   "cell_type": "code",
   "execution_count": 7,
   "metadata": {
    "collapsed": false
   },
   "outputs": [
    {
     "data": {
      "text/plain": [
       "<matplotlib.axes._subplots.AxesSubplot at 0xc05bf60>"
      ]
     },
     "execution_count": 7,
     "metadata": {},
     "output_type": "execute_result"
    },
    {
     "data": {
      "image/png": "[encoded data removed]",
      "text/plain": [
       "<matplotlib.figure.Figure at 0xc05b7b8>"
      ]
     },
     "metadata": {},
     "output_type": "display_data"
    }
   ],
   "source": [
    "%matplotlib inline\n",
    "import matplotlib.pyplot as plt\n",
    "plt.style.use('ggplot')\n",
    "\n",
    "essai.df.plot(x='date', y = 't')"
   ]
  },
  {
   "cell_type": "code",
   "execution_count": 131,
   "metadata": {
    "collapsed": false
   },
   "outputs": [],
   "source": [
    "class Electricity(object):\n",
    "    \"\"\"A dataframe storing the consolidated half-hourly electricity load in France (except outre-mer and Corsica)\n",
    "    Given the path name of the directory containing all RTE subdirectories we want to use\"\"\"\n",
    "    \n",
    "    def __init__(self):\n",
    "        \"constructor\"\n",
    "        import pandas as pd\n",
    "        self.df =  pd.DataFrame()\n",
    "    \n",
    "    def clean_electricity(self) :\n",
    "        import datetime\n",
    "        #Get holiday dates in France using the library called workalendar\n",
    "        from workalendar.europe import France\n",
    "        cal = France()\n",
    "        #Convert dates to DateTime format\n",
    "        self.df['Date'] = pd.to_datetime(self.df['Date'], format='%d/%m/%Y')\n",
    "        #Create the DayTypes mentioned in the article (except DayType 8)\n",
    "        #/!\\ We chose an arbitrary order to create the day types, since they are not separated sets\n",
    "        #Add normal weekdays (DayType 1)\n",
    "        self.df['Day_type'] = self.df['Date'].apply(lambda u : (u.date(), 1))\n",
    "        #Add Mondays (DayType 0)\n",
    "        self.df['Day_type'] = self.df['Day_type'].apply(lambda x : (x[0],0) if x[0].weekday()==0 else x)\n",
    "        #Add Fridays (DayType 2)\n",
    "        self.df['Day_type'] = self.df['Day_type'].apply(lambda x : (x[0],2) if x[0].weekday()==4 else x)\n",
    "        #Add Saturdays (DayType 3)\n",
    "        self.df['Day_type'] = self.df['Day_type'].apply(lambda x : (x[0],3) if x[0].weekday()==5 else x)\n",
    "        #Add Sundays (DayType 4)\n",
    "        self.df['Day_type'] = self.df['Day_type'].apply(lambda x : (x[0],4) if x[0].weekday()==6 else x)\n",
    "        #Add Bank holidays (DayType 6)\n",
    "        self.df['Day_type'] = self.df['Day_type'].apply(lambda x : (x[0],6) if cal.is_holiday(x[0])==True else x)\n",
    "        #Add Before Bank holidays (DayType 5)\n",
    "        self.df['Day_type'] = self.df['Day_type'].apply(lambda x : (x[0],5) if cal.is_holiday(x[0] + datetime.timedelta(days=1))==True else x)\n",
    "        #Add After Bank holidays (DayType 7)\n",
    "        self.df['Day_type'] = self.df['Day_type'].apply(lambda x : (x[0],7) if cal.is_holiday(x[0] - datetime.timedelta(days=1))==True else x)\n",
    "        self.df['Day_type'] = self.df['Day_type'].apply(lambda x : x[1])\n",
    "    \n",
    "    def get_electricity_data(self, mypath):\n",
    "        \"\"\"given a path name (do not forget '/' at the end) of the directory containing all Meteo France gzip files we want to use,\n",
    "        Unzip the gzip files\n",
    "        And insert them into the Temperatures instance\"\"\"\n",
    "        import numpy as np\n",
    "        from os import listdir\n",
    "        from os.path import isfile, join\n",
    "        import warnings\n",
    "        \n",
    "        onlyfiles = [f + \"/\" + listdir(mypath + f)[0] for f in listdir(mypath)]\n",
    "        for file_name in onlyfiles :\n",
    "            df_temp = pd.read_excel(mypath+file_name, skiprows=range(17),  header = 1)\n",
    "            #Drop empty lines separating each month on the Excel sheet\n",
    "            df_temp = df_temp.dropna(axis = 0).reset_index(drop = True)\n",
    "            #Check that df_temps has 365 rows (/!\\ There can be leap years containing 366 days, that is why only a warning is raised here)\n",
    "            if (len(df_temp) > 365) or (len(df_temp) < 365) :\n",
    "                warnings.warn(\"WARNING : There is more than 365 days or less than 365 days in dataframe\")\n",
    "                print(file_name)\n",
    "                print('Number of rows', len(df_temp))\n",
    "            self.df = self.df.append(df_temp, ignore_index=True)\n",
    "        self.clean_electricity()"
   ]
  },
  {
   "cell_type": "code",
   "execution_count": 132,
   "metadata": {
    "collapsed": false
   },
   "outputs": [
    {
     "name": "stderr",
     "output_type": "stream",
     "text": [
      "C:\\Users\\roman\\Anaconda3\\lib\\site-packages\\ipykernel\\__main__.py:53: UserWarning: WARNING : There is more than 365 days or less than 365 days in dataframe\n"
     ]
    },
    {
     "name": "stdout",
     "output_type": "stream",
     "text": [
      "Historique_consommation_INST_2012/Historique_consommation_INST_2012.xls\n",
      "Number of rows 366\n"
     ]
    }
   ],
   "source": [
    "#On crée une instance de la classe Temperatures qu'on nomme essai\n",
    "essai = Electricity()\n",
    "#On va insérer les données dans l'instance grâce à l'instruction get_electricity_data() en précisant le chemin du dossier\n",
    "#où se trouvent les données\n",
    "essai.get_electricity_data(\"C:/Users/roman/Desktop/ENSAE 3A/HMM et Monte Carlo/Donnees electricite/\")"
   ]
  },
  {
   "cell_type": "code",
   "execution_count": 133,
   "metadata": {
    "collapsed": false
   },
   "outputs": [
    {
     "data": {
      "text/html": [
       "<div>\n",
       "<table border=\"1\" class=\"dataframe\">\n",
       "  <thead>\n",
       "    <tr style=\"text-align: right;\">\n",
       "      <th></th>\n",
       "      <th>Date</th>\n",
       "      <th>Type de données</th>\n",
       "      <th>00:30</th>\n",
       "      <th>01:00</th>\n",
       "      <th>01:30</th>\n",
       "      <th>02:00</th>\n",
       "      <th>02:30</th>\n",
       "      <th>03:00</th>\n",
       "      <th>03:30</th>\n",
       "      <th>04:00</th>\n",
       "      <th>...</th>\n",
       "      <th>20:00</th>\n",
       "      <th>20:30</th>\n",
       "      <th>21:00</th>\n",
       "      <th>21:30</th>\n",
       "      <th>22:00</th>\n",
       "      <th>22:30</th>\n",
       "      <th>23:00</th>\n",
       "      <th>23:30</th>\n",
       "      <th>24:00</th>\n",
       "      <th>Day_type</th>\n",
       "    </tr>\n",
       "  </thead>\n",
       "  <tbody>\n",
       "    <tr>\n",
       "      <th>0</th>\n",
       "      <td>2011-01-01</td>\n",
       "      <td>Définitives</td>\n",
       "      <td>70671.0</td>\n",
       "      <td>68887.0</td>\n",
       "      <td>69045.0</td>\n",
       "      <td>68830.0</td>\n",
       "      <td>68143.0</td>\n",
       "      <td>65950.0</td>\n",
       "      <td>64343.0</td>\n",
       "      <td>62676.0</td>\n",
       "      <td>...</td>\n",
       "      <td>70926.0</td>\n",
       "      <td>70532.0</td>\n",
       "      <td>69433.0</td>\n",
       "      <td>68257.0</td>\n",
       "      <td>67221.0</td>\n",
       "      <td>68287.0</td>\n",
       "      <td>70497.0</td>\n",
       "      <td>69320.0</td>\n",
       "      <td>69062.0</td>\n",
       "      <td>6</td>\n",
       "    </tr>\n",
       "    <tr>\n",
       "      <th>1</th>\n",
       "      <td>2011-01-02</td>\n",
       "      <td>Définitives</td>\n",
       "      <td>67537.0</td>\n",
       "      <td>65099.0</td>\n",
       "      <td>65152.0</td>\n",
       "      <td>64785.0</td>\n",
       "      <td>64478.0</td>\n",
       "      <td>62594.0</td>\n",
       "      <td>61319.0</td>\n",
       "      <td>60084.0</td>\n",
       "      <td>...</td>\n",
       "      <td>75851.0</td>\n",
       "      <td>74972.0</td>\n",
       "      <td>73480.0</td>\n",
       "      <td>71938.0</td>\n",
       "      <td>70788.0</td>\n",
       "      <td>71380.0</td>\n",
       "      <td>73374.0</td>\n",
       "      <td>72138.0</td>\n",
       "      <td>71897.0</td>\n",
       "      <td>7</td>\n",
       "    </tr>\n",
       "    <tr>\n",
       "      <th>2</th>\n",
       "      <td>2011-01-03</td>\n",
       "      <td>Définitives</td>\n",
       "      <td>70483.0</td>\n",
       "      <td>68325.0</td>\n",
       "      <td>68628.0</td>\n",
       "      <td>68694.0</td>\n",
       "      <td>68715.0</td>\n",
       "      <td>67143.0</td>\n",
       "      <td>66038.0</td>\n",
       "      <td>65140.0</td>\n",
       "      <td>...</td>\n",
       "      <td>86672.0</td>\n",
       "      <td>84611.0</td>\n",
       "      <td>82317.0</td>\n",
       "      <td>80219.0</td>\n",
       "      <td>78181.0</td>\n",
       "      <td>78450.0</td>\n",
       "      <td>80072.0</td>\n",
       "      <td>78675.0</td>\n",
       "      <td>78509.0</td>\n",
       "      <td>0</td>\n",
       "    </tr>\n",
       "    <tr>\n",
       "      <th>3</th>\n",
       "      <td>2011-01-04</td>\n",
       "      <td>Définitives</td>\n",
       "      <td>76712.0</td>\n",
       "      <td>74313.0</td>\n",
       "      <td>74466.0</td>\n",
       "      <td>74199.0</td>\n",
       "      <td>74196.0</td>\n",
       "      <td>72428.0</td>\n",
       "      <td>71160.0</td>\n",
       "      <td>70052.0</td>\n",
       "      <td>...</td>\n",
       "      <td>88879.0</td>\n",
       "      <td>86587.0</td>\n",
       "      <td>84053.0</td>\n",
       "      <td>81787.0</td>\n",
       "      <td>79995.0</td>\n",
       "      <td>80119.0</td>\n",
       "      <td>81749.0</td>\n",
       "      <td>80214.0</td>\n",
       "      <td>79953.0</td>\n",
       "      <td>1</td>\n",
       "    </tr>\n",
       "    <tr>\n",
       "      <th>4</th>\n",
       "      <td>2011-01-05</td>\n",
       "      <td>Définitives</td>\n",
       "      <td>78121.0</td>\n",
       "      <td>75826.0</td>\n",
       "      <td>75627.0</td>\n",
       "      <td>75486.0</td>\n",
       "      <td>75425.0</td>\n",
       "      <td>73532.0</td>\n",
       "      <td>72180.0</td>\n",
       "      <td>71197.0</td>\n",
       "      <td>...</td>\n",
       "      <td>85901.0</td>\n",
       "      <td>83329.0</td>\n",
       "      <td>80561.0</td>\n",
       "      <td>78396.0</td>\n",
       "      <td>76036.0</td>\n",
       "      <td>75946.0</td>\n",
       "      <td>77336.0</td>\n",
       "      <td>75885.0</td>\n",
       "      <td>75385.0</td>\n",
       "      <td>1</td>\n",
       "    </tr>\n",
       "  </tbody>\n",
       "</table>\n",
       "<p>5 rows × 51 columns</p>\n",
       "</div>"
      ],
      "text/plain": [
       "        Date Type de données    00:30    01:00    01:30    02:00    02:30  \\\n",
       "0 2011-01-01     Définitives  70671.0  68887.0  69045.0  68830.0  68143.0   \n",
       "1 2011-01-02     Définitives  67537.0  65099.0  65152.0  64785.0  64478.0   \n",
       "2 2011-01-03     Définitives  70483.0  68325.0  68628.0  68694.0  68715.0   \n",
       "3 2011-01-04     Définitives  76712.0  74313.0  74466.0  74199.0  74196.0   \n",
       "4 2011-01-05     Définitives  78121.0  75826.0  75627.0  75486.0  75425.0   \n",
       "\n",
       "     03:00    03:30    04:00    ...       20:00    20:30    21:00    21:30  \\\n",
       "0  65950.0  64343.0  62676.0    ...     70926.0  70532.0  69433.0  68257.0   \n",
       "1  62594.0  61319.0  60084.0    ...     75851.0  74972.0  73480.0  71938.0   \n",
       "2  67143.0  66038.0  65140.0    ...     86672.0  84611.0  82317.0  80219.0   \n",
       "3  72428.0  71160.0  70052.0    ...     88879.0  86587.0  84053.0  81787.0   \n",
       "4  73532.0  72180.0  71197.0    ...     85901.0  83329.0  80561.0  78396.0   \n",
       "\n",
       "     22:00    22:30    23:00    23:30    24:00  Day_type  \n",
       "0  67221.0  68287.0  70497.0  69320.0  69062.0         6  \n",
       "1  70788.0  71380.0  73374.0  72138.0  71897.0         7  \n",
       "2  78181.0  78450.0  80072.0  78675.0  78509.0         0  \n",
       "3  79995.0  80119.0  81749.0  80214.0  79953.0         1  \n",
       "4  76036.0  75946.0  77336.0  75885.0  75385.0         1  \n",
       "\n",
       "[5 rows x 51 columns]"
      ]
     },
     "execution_count": 133,
     "metadata": {},
     "output_type": "execute_result"
    }
   ],
   "source": [
    "essai.df.head()"
   ]
  },
  {
   "cell_type": "code",
   "execution_count": null,
   "metadata": {
    "collapsed": true
   },
   "outputs": [],
   "source": []
  }
 ],
 "metadata": {
  "anaconda-cloud": {},
  "kernelspec": {
   "display_name": "Python [default]",
   "language": "python",
   "name": "python3"
  },
  "language_info": {
   "codemirror_mode": {
    "name": "ipython",
    "version": 3
   },
   "file_extension": ".py",
   "mimetype": "text/x-python",
   "name": "python",
   "nbconvert_exporter": "python",
   "pygments_lexer": "ipython3",
   "version": "3.5.2"
  }
 },
 "nbformat": 4,
 "nbformat_minor": 0
}
